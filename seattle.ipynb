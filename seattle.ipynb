{
 "cells": [
  {
   "cell_type": "markdown",
   "metadata": {},
   "source": [
    "### An Analysis of Crime Trends in Seattle (2008-2020)"
   ]
  },
  {
   "cell_type": "code",
   "execution_count": 1,
   "metadata": {
    "scrolled": false
   },
   "outputs": [
    {
     "name": "stderr",
     "output_type": "stream",
     "text": [
      "Warning message:\n",
      "\"package 'RPostgreSQL' was built under R version 3.6.3\"\n",
      "Loading required package: DBI\n",
      "\n",
      "Warning message:\n",
      "\"package 'DBI' was built under R version 3.6.2\"\n",
      "Warning message:\n",
      "\"package 'tidyverse' was built under R version 3.6.3\"\n",
      "-- \u001b[1mAttaching packages\u001b[22m --------------------------------------- tidyverse 1.3.0 --\n",
      "\n",
      "\u001b[32mv\u001b[39m \u001b[34mggplot2\u001b[39m 3.3.2     \u001b[32mv\u001b[39m \u001b[34mpurrr  \u001b[39m 0.3.3\n",
      "\u001b[32mv\u001b[39m \u001b[34mtibble \u001b[39m 2.1.3     \u001b[32mv\u001b[39m \u001b[34mdplyr  \u001b[39m 1.0.2\n",
      "\u001b[32mv\u001b[39m \u001b[34mtidyr  \u001b[39m 1.0.0     \u001b[32mv\u001b[39m \u001b[34mstringr\u001b[39m 1.4.0\n",
      "\u001b[32mv\u001b[39m \u001b[34mreadr  \u001b[39m 1.3.1     \u001b[32mv\u001b[39m \u001b[34mforcats\u001b[39m 0.4.0\n",
      "\n",
      "Warning message:\n",
      "\"package 'ggplot2' was built under R version 3.6.3\"\n",
      "Warning message:\n",
      "\"package 'tibble' was built under R version 3.6.2\"\n",
      "Warning message:\n",
      "\"package 'tidyr' was built under R version 3.6.2\"\n",
      "Warning message:\n",
      "\"package 'readr' was built under R version 3.6.2\"\n",
      "Warning message:\n",
      "\"package 'purrr' was built under R version 3.6.2\"\n",
      "Warning message:\n",
      "\"package 'dplyr' was built under R version 3.6.3\"\n",
      "Warning message:\n",
      "\"package 'stringr' was built under R version 3.6.2\"\n",
      "Warning message:\n",
      "\"package 'forcats' was built under R version 3.6.2\"\n",
      "-- \u001b[1mConflicts\u001b[22m ------------------------------------------ tidyverse_conflicts() --\n",
      "\u001b[31mx\u001b[39m \u001b[34mdplyr\u001b[39m::\u001b[32mfilter()\u001b[39m masks \u001b[34mstats\u001b[39m::filter()\n",
      "\u001b[31mx\u001b[39m \u001b[34mdplyr\u001b[39m::\u001b[32mlag()\u001b[39m    masks \u001b[34mstats\u001b[39m::lag()\n",
      "\n",
      "Warning message:\n",
      "\"package 'plotly' was built under R version 3.6.3\"\n",
      "\n",
      "Attaching package: 'plotly'\n",
      "\n",
      "\n",
      "The following object is masked from 'package:ggplot2':\n",
      "\n",
      "    last_plot\n",
      "\n",
      "\n",
      "The following object is masked from 'package:stats':\n",
      "\n",
      "    filter\n",
      "\n",
      "\n",
      "The following object is masked from 'package:graphics':\n",
      "\n",
      "    layout\n",
      "\n",
      "\n",
      "Warning message:\n",
      "\"package 'DT' was built under R version 3.6.3\"\n",
      "Warning message:\n",
      "\"package 'corrplot' was built under R version 3.6.3\"\n",
      "corrplot 0.84 loaded\n",
      "\n"
     ]
    }
   ],
   "source": [
    "#load libraries\n",
    "\n",
    "library(RPostgreSQL)\n",
    "library(DBI)\n",
    "library(tidyverse)\n",
    "library(plotly)\n",
    "library(DT)\n",
    "library(corrplot)"
   ]
  },
  {
   "cell_type": "code",
   "execution_count": 2,
   "metadata": {},
   "outputs": [],
   "source": [
    "#set up connection to local database containing seattle tables\n",
    "db <- 'postgres'\n",
    "host_db <- 'LOCALHOST'\n",
    "db_port <- '5432'\n",
    "db_user <- 'postgres'\n",
    "db_password <- '****'\n",
    "con <- dbConnect(RPostgres::Postgres(),\n",
    "                dbname=db,\n",
    "                host=host_db,\n",
    "                port=db_port,\n",
    "                user=db_user,\n",
    "                password=db_password)"
   ]
  },
  {
   "cell_type": "code",
   "execution_count": 3,
   "metadata": {},
   "outputs": [],
   "source": [
    "#DATA DICTIONARY FOR SEATTLE CRIME DATASET IS FOUND HERE: \n",
    "#https://data.seattle.gov/api/views/tazs-3rd5/files/c1eb764d-95e4-4557-a60b-f0fda65d6d59?download=true&filename=SPD_DSG_OFFENSE_METADATA.pdf"
   ]
  },
  {
   "cell_type": "code",
   "execution_count": 74,
   "metadata": {
    "scrolled": false
   },
   "outputs": [
    {
     "data": {
      "text/html": [
       "<table>\n",
       "<caption>A data.frame: 3 × 17</caption>\n",
       "<thead>\n",
       "\t<tr><th scope=col>Report Number</th><th scope=col>Offense ID</th><th scope=col>Offense Start DateTime</th><th scope=col>Offense End DateTime</th><th scope=col>Report DateTime</th><th scope=col>Group A B</th><th scope=col>Crime Against Category</th><th scope=col>Offense Parent Group</th><th scope=col>Offense</th><th scope=col>Offense Code</th><th scope=col>Precinct</th><th scope=col>Sector</th><th scope=col>Beat</th><th scope=col>MCPP</th><th scope=col>100 Block Address</th><th scope=col>Longitude</th><th scope=col>Latitude</th></tr>\n",
       "\t<tr><th scope=col>&lt;chr&gt;</th><th scope=col>&lt;dbl&gt;</th><th scope=col>&lt;dttm&gt;</th><th scope=col>&lt;dttm&gt;</th><th scope=col>&lt;dttm&gt;</th><th scope=col>&lt;chr&gt;</th><th scope=col>&lt;chr&gt;</th><th scope=col>&lt;chr&gt;</th><th scope=col>&lt;chr&gt;</th><th scope=col>&lt;chr&gt;</th><th scope=col>&lt;chr&gt;</th><th scope=col>&lt;chr&gt;</th><th scope=col>&lt;chr&gt;</th><th scope=col>&lt;chr&gt;</th><th scope=col>&lt;chr&gt;</th><th scope=col>&lt;dbl&gt;</th><th scope=col>&lt;dbl&gt;</th></tr>\n",
       "</thead>\n",
       "<tbody>\n",
       "\t<tr><td>2020-064844</td><td>12630483385</td><td>2020-02-20 06:54:00</td><td>2020-02-20 09:04:00</td><td>2020-02-20 17:44:36</td><td>A</td><td>PROPERTY</td><td>BURGLARY/BREAKING&amp;ENTERING</td><td>Burglary/Breaking &amp; Entering</td><td>220</td><td>E</td><td>E</td><td>E3</td><td><span style=white-space:pre-wrap>CAPITOL HILL     </span></td><td><span style=white-space:pre-wrap>15XX BLOCK OF BELMONT AVE     </span></td><td>-122.3245</td><td>47.61466</td></tr>\n",
       "\t<tr><td>2020-064865</td><td>12630481814</td><td>2020-02-20 16:40:00</td><td>2020-02-20 16:55:00</td><td>2020-02-20 17:37:27</td><td>A</td><td>PERSON  </td><td>ASSAULT OFFENSES          </td><td>Aggravated Assault          </td><td>13A</td><td>E</td><td>E</td><td>E2</td><td>CAPITOL HILL     </td><td>10XX BLOCK OF E PIKE ST       </td><td>-122.3188</td><td>47.61409</td></tr>\n",
       "\t<tr><td>2020-064793</td><td>12630473713</td><td>2020-02-20 15:15:00</td><td>NA</td><td>2020-02-20 17:30:10</td><td>A</td><td>PERSON  </td><td>ASSAULT OFFENSES          </td><td>Aggravated Assault          </td><td>13A</td><td>N</td><td>U</td><td>U1</td><td>ROOSEVELT/RAVENNA</td><td>67XX BLOCK OF ROOSEVELT WAY NE</td><td>-122.3174</td><td>47.67765</td></tr>\n",
       "</tbody>\n",
       "</table>\n"
      ],
      "text/latex": [
       "A data.frame: 3 × 17\n",
       "\\begin{tabular}{lllllllllllllllll}\n",
       " Report Number & Offense ID & Offense Start DateTime & Offense End DateTime & Report DateTime & Group A B & Crime Against Category & Offense Parent Group & Offense & Offense Code & Precinct & Sector & Beat & MCPP & 100 Block Address & Longitude & Latitude\\\\\n",
       " <chr> & <dbl> & <dttm> & <dttm> & <dttm> & <chr> & <chr> & <chr> & <chr> & <chr> & <chr> & <chr> & <chr> & <chr> & <chr> & <dbl> & <dbl>\\\\\n",
       "\\hline\n",
       "\t 2020-064844 & 12630483385 & 2020-02-20 06:54:00 & 2020-02-20 09:04:00 & 2020-02-20 17:44:36 & A & PROPERTY & BURGLARY/BREAKING\\&ENTERING & Burglary/Breaking \\& Entering & 220 & E & E & E3 & CAPITOL HILL      & 15XX BLOCK OF BELMONT AVE      & -122.3245 & 47.61466\\\\\n",
       "\t 2020-064865 & 12630481814 & 2020-02-20 16:40:00 & 2020-02-20 16:55:00 & 2020-02-20 17:37:27 & A & PERSON   & ASSAULT OFFENSES           & Aggravated Assault           & 13A & E & E & E2 & CAPITOL HILL      & 10XX BLOCK OF E PIKE ST        & -122.3188 & 47.61409\\\\\n",
       "\t 2020-064793 & 12630473713 & 2020-02-20 15:15:00 & NA & 2020-02-20 17:30:10 & A & PERSON   & ASSAULT OFFENSES           & Aggravated Assault           & 13A & N & U & U1 & ROOSEVELT/RAVENNA & 67XX BLOCK OF ROOSEVELT WAY NE & -122.3174 & 47.67765\\\\\n",
       "\\end{tabular}\n"
      ],
      "text/markdown": [
       "\n",
       "A data.frame: 3 × 17\n",
       "\n",
       "| Report Number &lt;chr&gt; | Offense ID &lt;dbl&gt; | Offense Start DateTime &lt;dttm&gt; | Offense End DateTime &lt;dttm&gt; | Report DateTime &lt;dttm&gt; | Group A B &lt;chr&gt; | Crime Against Category &lt;chr&gt; | Offense Parent Group &lt;chr&gt; | Offense &lt;chr&gt; | Offense Code &lt;chr&gt; | Precinct &lt;chr&gt; | Sector &lt;chr&gt; | Beat &lt;chr&gt; | MCPP &lt;chr&gt; | 100 Block Address &lt;chr&gt; | Longitude &lt;dbl&gt; | Latitude &lt;dbl&gt; |\n",
       "|---|---|---|---|---|---|---|---|---|---|---|---|---|---|---|---|---|\n",
       "| 2020-064844 | 12630483385 | 2020-02-20 06:54:00 | 2020-02-20 09:04:00 | 2020-02-20 17:44:36 | A | PROPERTY | BURGLARY/BREAKING&amp;ENTERING | Burglary/Breaking &amp; Entering | 220 | E | E | E3 | CAPITOL HILL      | 15XX BLOCK OF BELMONT AVE      | -122.3245 | 47.61466 |\n",
       "| 2020-064865 | 12630481814 | 2020-02-20 16:40:00 | 2020-02-20 16:55:00 | 2020-02-20 17:37:27 | A | PERSON   | ASSAULT OFFENSES           | Aggravated Assault           | 13A | E | E | E2 | CAPITOL HILL      | 10XX BLOCK OF E PIKE ST        | -122.3188 | 47.61409 |\n",
       "| 2020-064793 | 12630473713 | 2020-02-20 15:15:00 | NA | 2020-02-20 17:30:10 | A | PERSON   | ASSAULT OFFENSES           | Aggravated Assault           | 13A | N | U | U1 | ROOSEVELT/RAVENNA | 67XX BLOCK OF ROOSEVELT WAY NE | -122.3174 | 47.67765 |\n",
       "\n"
      ],
      "text/plain": [
       "  Report Number Offense ID  Offense Start DateTime Offense End DateTime\n",
       "1 2020-064844   12630483385 2020-02-20 06:54:00    2020-02-20 09:04:00 \n",
       "2 2020-064865   12630481814 2020-02-20 16:40:00    2020-02-20 16:55:00 \n",
       "3 2020-064793   12630473713 2020-02-20 15:15:00    <NA>                \n",
       "  Report DateTime     Group A B Crime Against Category\n",
       "1 2020-02-20 17:44:36 A         PROPERTY              \n",
       "2 2020-02-20 17:37:27 A         PERSON                \n",
       "3 2020-02-20 17:30:10 A         PERSON                \n",
       "  Offense Parent Group       Offense                      Offense Code Precinct\n",
       "1 BURGLARY/BREAKING&ENTERING Burglary/Breaking & Entering 220          E       \n",
       "2 ASSAULT OFFENSES           Aggravated Assault           13A          E       \n",
       "3 ASSAULT OFFENSES           Aggravated Assault           13A          N       \n",
       "  Sector Beat MCPP              100 Block Address              Longitude\n",
       "1 E      E3   CAPITOL HILL      15XX BLOCK OF BELMONT AVE      -122.3245\n",
       "2 E      E2   CAPITOL HILL      10XX BLOCK OF E PIKE ST        -122.3188\n",
       "3 U      U1   ROOSEVELT/RAVENNA 67XX BLOCK OF ROOSEVELT WAY NE -122.3174\n",
       "  Latitude\n",
       "1 47.61466\n",
       "2 47.61409\n",
       "3 47.67765"
      ]
     },
     "metadata": {},
     "output_type": "display_data"
    }
   ],
   "source": [
    "#GET AN OVERVIEW OF THE DATASET\n",
    "dbGetQuery(con, 'SELECT * FROM seattle_crime LIMIT 3')"
   ]
  },
  {
   "cell_type": "code",
   "execution_count": 4,
   "metadata": {},
   "outputs": [
    {
     "data": {
      "text/html": [
       "<table>\n",
       "<caption>A data.frame: 1 × 4</caption>\n",
       "<thead>\n",
       "\t<tr><th scope=col>total_crimes</th><th scope=col>empty_start_times</th><th scope=col>empty_end_times</th><th scope=col>empty_report_times</th></tr>\n",
       "\t<tr><th scope=col>&lt;int64&gt;</th><th scope=col>&lt;int64&gt;</th><th scope=col>&lt;int64&gt;</th><th scope=col>&lt;int64&gt;</th></tr>\n",
       "</thead>\n",
       "<tbody>\n",
       "\t<tr><td>877926</td><td>648</td><td>408962</td><td>0</td></tr>\n",
       "</tbody>\n",
       "</table>\n"
      ],
      "text/latex": [
       "A data.frame: 1 × 4\n",
       "\\begin{tabular}{llll}\n",
       " total\\_crimes & empty\\_start\\_times & empty\\_end\\_times & empty\\_report\\_times\\\\\n",
       " <int64> & <int64> & <int64> & <int64>\\\\\n",
       "\\hline\n",
       "\t 877926 & 648 & 408962 & 0\\\\\n",
       "\\end{tabular}\n"
      ],
      "text/markdown": [
       "\n",
       "A data.frame: 1 × 4\n",
       "\n",
       "| total_crimes &lt;int64&gt; | empty_start_times &lt;int64&gt; | empty_end_times &lt;int64&gt; | empty_report_times &lt;int64&gt; |\n",
       "|---|---|---|---|\n",
       "| 877926 | 648 | 408962 | 0 |\n",
       "\n"
      ],
      "text/plain": [
       "  total_crimes empty_start_times empty_end_times empty_report_times\n",
       "1 877926       648               408962          0                 "
      ]
     },
     "metadata": {},
     "output_type": "display_data"
    }
   ],
   "source": [
    "#Check to see which datapoints provide the most information on times of crime\n",
    "dbGetQuery(con, 'SELECT \n",
    "(SELECT COUNT(*) FROM seattle_crime) AS total_crimes, \n",
    "(SELECT COUNT(*) FROM seattle_crime WHERE \"Offense Start DateTime\" IS NULL) AS empty_start_times,\n",
    "(SELECT COUNT(*) FROM seattle_crime WHERE \"Offense End DateTime\" IS NULL) AS empty_end_times, \n",
    "(SELECT COUNT(*) FROM seattle_crime WHERE \"Report DateTime\" IS NULL) AS empty_report_times')"
   ]
  },
  {
   "cell_type": "code",
   "execution_count": 5,
   "metadata": {},
   "outputs": [
    {
     "data": {
      "text/html": [
       "<table>\n",
       "<caption>A data.frame: 1 × 2</caption>\n",
       "<thead>\n",
       "\t<tr><th scope=col>total_reports</th><th scope=col>distinct_reports</th></tr>\n",
       "\t<tr><th scope=col>&lt;int64&gt;</th><th scope=col>&lt;int64&gt;</th></tr>\n",
       "</thead>\n",
       "<tbody>\n",
       "\t<tr><td>877926</td><td>818376</td></tr>\n",
       "</tbody>\n",
       "</table>\n"
      ],
      "text/latex": [
       "A data.frame: 1 × 2\n",
       "\\begin{tabular}{ll}\n",
       " total\\_reports & distinct\\_reports\\\\\n",
       " <int64> & <int64>\\\\\n",
       "\\hline\n",
       "\t 877926 & 818376\\\\\n",
       "\\end{tabular}\n"
      ],
      "text/markdown": [
       "\n",
       "A data.frame: 1 × 2\n",
       "\n",
       "| total_reports &lt;int64&gt; | distinct_reports &lt;int64&gt; |\n",
       "|---|---|\n",
       "| 877926 | 818376 |\n",
       "\n"
      ],
      "text/plain": [
       "  total_reports distinct_reports\n",
       "1 877926        818376          "
      ]
     },
     "metadata": {},
     "output_type": "display_data"
    },
    {
     "data": {
      "text/html": [
       "<table>\n",
       "<caption>A data.frame: 1 × 2</caption>\n",
       "<thead>\n",
       "\t<tr><th scope=col>total_offense_ids</th><th scope=col>distinct_offense_ids</th></tr>\n",
       "\t<tr><th scope=col>&lt;int64&gt;</th><th scope=col>&lt;int64&gt;</th></tr>\n",
       "</thead>\n",
       "<tbody>\n",
       "\t<tr><td>877926</td><td>877926</td></tr>\n",
       "</tbody>\n",
       "</table>\n"
      ],
      "text/latex": [
       "A data.frame: 1 × 2\n",
       "\\begin{tabular}{ll}\n",
       " total\\_offense\\_ids & distinct\\_offense\\_ids\\\\\n",
       " <int64> & <int64>\\\\\n",
       "\\hline\n",
       "\t 877926 & 877926\\\\\n",
       "\\end{tabular}\n"
      ],
      "text/markdown": [
       "\n",
       "A data.frame: 1 × 2\n",
       "\n",
       "| total_offense_ids &lt;int64&gt; | distinct_offense_ids &lt;int64&gt; |\n",
       "|---|---|\n",
       "| 877926 | 877926 |\n",
       "\n"
      ],
      "text/plain": [
       "  total_offense_ids distinct_offense_ids\n",
       "1 877926            877926              "
      ]
     },
     "metadata": {},
     "output_type": "display_data"
    }
   ],
   "source": [
    "#look for errors and duplicated data\n",
    "dbGetQuery(con, 'SELECT\n",
    "    (SELECT COUNT(\"Report Number\") FROM seattle_crime) as total_reports,\n",
    "    (SELECT COUNT(DISTINCT \"Report Number\") FROM seattle_crime) as distinct_reports')\n",
    "\n",
    "dbGetQuery(con, 'SELECT\n",
    "    (SELECT COUNT(\"Offense ID\") FROM seattle_crime) as total_offense_IDs,\n",
    "    (SELECT COUNT(DISTINCT \"Offense ID\") FROM seattle_crime) as distinct_offense_IDs')\n",
    "\n",
    "#The offense IDs are all unique and not duplicated. The total reports deviates from distinct reports \n",
    "#as some crimes are reported in the same report (per the data dictionary)"
   ]
  },
  {
   "cell_type": "code",
   "execution_count": 6,
   "metadata": {},
   "outputs": [
    {
     "data": {
      "text/plain": [
       "<PqResult>\n",
       "  SQL  CREATE OR REPLACE VIEW sea_crime AS\n",
       "SELECT \"Report DateTime\" AS report_datetime, \n",
       "\"Crime Against Category\" as crime_against,\n",
       "\"Offense Parent Group\" AS offense_parent_group,\n",
       "\"Offense\" as offense, \"MCPP\" AS mcpp\n",
       "FROM seattle_crime WHERE DATE_PART($$year$$, \"Report DateTime\")\n",
       "BETWEEN 2008 AND 2020\n",
       "  ROWS Fetched: 0 [complete]\n",
       "       Changed: 0"
      ]
     },
     "metadata": {},
     "output_type": "display_data"
    }
   ],
   "source": [
    "#CREATE VIEW TO INCLUDE ONLY THE YEARS WE WANT AND EXLUDE OUTLIER YEARS\n",
    "\n",
    "dbSendQuery(con, \n",
    "'CREATE OR REPLACE VIEW sea_crime AS\n",
    "SELECT \"Report DateTime\" AS report_datetime, \n",
    "\"Crime Against Category\" as crime_against,\n",
    "\"Offense Parent Group\" AS offense_parent_group,\n",
    "\"Offense\" as offense, \"MCPP\" AS mcpp\n",
    "FROM seattle_crime WHERE DATE_PART($$year$$, \"Report DateTime\")\n",
    "BETWEEN 2008 AND 2020')"
   ]
  },
  {
   "cell_type": "code",
   "execution_count": 8,
   "metadata": {},
   "outputs": [],
   "source": [
    "#CONFIRM WE HAVE THE YEARS WE WANT\n",
    "abs_crime_count <- dbGetQuery(con, \"SELECT EXTRACT('year' FROM report_datetime) AS year, count(offense) \n",
    "FROM sea_crime GROUP BY year ORDER BY year DESC\")"
   ]
  },
  {
   "cell_type": "code",
   "execution_count": 75,
   "metadata": {},
   "outputs": [],
   "source": [
    "#plot time series of crime\n",
    "fig <- plot_ly(abs_crime_count, x = ~year, y = ~count, type = 'scatter', mode = 'lines') %>%\n",
    "layout(xaxis = list(title = 'Year'), yaxis=list(title = 'Crime Count'))"
   ]
  },
  {
   "cell_type": "markdown",
   "metadata": {},
   "source": [
    "![g1](r-notebook/one.jpg)"
   ]
  },
  {
   "cell_type": "code",
   "execution_count": 76,
   "metadata": {},
   "outputs": [
    {
     "data": {
      "text/html": [
       "<table>\n",
       "<caption>A data.frame: 10 × 3</caption>\n",
       "<thead>\n",
       "\t<tr><th></th><th scope=col>offense</th><th scope=col>count</th><th scope=col>offense_parent_group</th></tr>\n",
       "\t<tr><th></th><th scope=col>&lt;chr&gt;</th><th scope=col>&lt;int64&gt;</th><th scope=col>&lt;chr&gt;</th></tr>\n",
       "</thead>\n",
       "<tbody>\n",
       "\t<tr><th scope=row>1</th><td>Theft From Motor Vehicle                </td><td>148243</td><td>LARCENY-THEFT                           </td></tr>\n",
       "\t<tr><th scope=row>2</th><td><span style=white-space:pre-wrap>Burglary/Breaking &amp; Entering            </span></td><td> 96367</td><td><span style=white-space:pre-wrap>BURGLARY/BREAKING&amp;ENTERING              </span></td></tr>\n",
       "\t<tr><th scope=row>3</th><td>Destruction/Damage/Vandalism of Property</td><td> 80305</td><td>DESTRUCTION/DAMAGE/VANDALISM OF PROPERTY</td></tr>\n",
       "\t<tr><th scope=row>4</th><td>All Other Larceny                       </td><td> 74020</td><td>LARCENY-THEFT                           </td></tr>\n",
       "\t<tr><th scope=row>5</th><td>Simple Assault                          </td><td> 68338</td><td>ASSAULT OFFENSES                        </td></tr>\n",
       "\t<tr><th scope=row>6</th><td>Shoplifting                             </td><td> 55053</td><td>LARCENY-THEFT                           </td></tr>\n",
       "\t<tr><th scope=row>7</th><td>Motor Vehicle Theft                     </td><td> 52493</td><td>MOTOR VEHICLE THEFT                     </td></tr>\n",
       "\t<tr><th scope=row>8</th><td>Intimidation                            </td><td> 28654</td><td>ASSAULT OFFENSES                        </td></tr>\n",
       "\t<tr><th scope=row>9</th><td>Trespass of Real Property               </td><td> 27959</td><td>TRESPASS OF REAL PROPERTY               </td></tr>\n",
       "\t<tr><th scope=row>10</th><td>Aggravated Assault                      </td><td> 27568</td><td>ASSAULT OFFENSES                        </td></tr>\n",
       "</tbody>\n",
       "</table>\n"
      ],
      "text/latex": [
       "A data.frame: 10 × 3\n",
       "\\begin{tabular}{r|lll}\n",
       "  & offense & count & offense\\_parent\\_group\\\\\n",
       "  & <chr> & <int64> & <chr>\\\\\n",
       "\\hline\n",
       "\t1 & Theft From Motor Vehicle                 & 148243 & LARCENY-THEFT                           \\\\\n",
       "\t2 & Burglary/Breaking \\& Entering             &  96367 & BURGLARY/BREAKING\\&ENTERING              \\\\\n",
       "\t3 & Destruction/Damage/Vandalism of Property &  80305 & DESTRUCTION/DAMAGE/VANDALISM OF PROPERTY\\\\\n",
       "\t4 & All Other Larceny                        &  74020 & LARCENY-THEFT                           \\\\\n",
       "\t5 & Simple Assault                           &  68338 & ASSAULT OFFENSES                        \\\\\n",
       "\t6 & Shoplifting                              &  55053 & LARCENY-THEFT                           \\\\\n",
       "\t7 & Motor Vehicle Theft                      &  52493 & MOTOR VEHICLE THEFT                     \\\\\n",
       "\t8 & Intimidation                             &  28654 & ASSAULT OFFENSES                        \\\\\n",
       "\t9 & Trespass of Real Property                &  27959 & TRESPASS OF REAL PROPERTY               \\\\\n",
       "\t10 & Aggravated Assault                       &  27568 & ASSAULT OFFENSES                        \\\\\n",
       "\\end{tabular}\n"
      ],
      "text/markdown": [
       "\n",
       "A data.frame: 10 × 3\n",
       "\n",
       "| <!--/--> | offense &lt;chr&gt; | count &lt;int64&gt; | offense_parent_group &lt;chr&gt; |\n",
       "|---|---|---|---|\n",
       "| 1 | Theft From Motor Vehicle                 | 148243 | LARCENY-THEFT                            |\n",
       "| 2 | Burglary/Breaking &amp; Entering             |  96367 | BURGLARY/BREAKING&amp;ENTERING               |\n",
       "| 3 | Destruction/Damage/Vandalism of Property |  80305 | DESTRUCTION/DAMAGE/VANDALISM OF PROPERTY |\n",
       "| 4 | All Other Larceny                        |  74020 | LARCENY-THEFT                            |\n",
       "| 5 | Simple Assault                           |  68338 | ASSAULT OFFENSES                         |\n",
       "| 6 | Shoplifting                              |  55053 | LARCENY-THEFT                            |\n",
       "| 7 | Motor Vehicle Theft                      |  52493 | MOTOR VEHICLE THEFT                      |\n",
       "| 8 | Intimidation                             |  28654 | ASSAULT OFFENSES                         |\n",
       "| 9 | Trespass of Real Property                |  27959 | TRESPASS OF REAL PROPERTY                |\n",
       "| 10 | Aggravated Assault                       |  27568 | ASSAULT OFFENSES                         |\n",
       "\n"
      ],
      "text/plain": [
       "   offense                                  count \n",
       "1  Theft From Motor Vehicle                 148243\n",
       "2  Burglary/Breaking & Entering              96367\n",
       "3  Destruction/Damage/Vandalism of Property  80305\n",
       "4  All Other Larceny                         74020\n",
       "5  Simple Assault                            68338\n",
       "6  Shoplifting                               55053\n",
       "7  Motor Vehicle Theft                       52493\n",
       "8  Intimidation                              28654\n",
       "9  Trespass of Real Property                 27959\n",
       "10 Aggravated Assault                        27568\n",
       "   offense_parent_group                    \n",
       "1  LARCENY-THEFT                           \n",
       "2  BURGLARY/BREAKING&ENTERING              \n",
       "3  DESTRUCTION/DAMAGE/VANDALISM OF PROPERTY\n",
       "4  LARCENY-THEFT                           \n",
       "5  ASSAULT OFFENSES                        \n",
       "6  LARCENY-THEFT                           \n",
       "7  MOTOR VEHICLE THEFT                     \n",
       "8  ASSAULT OFFENSES                        \n",
       "9  TRESPASS OF REAL PROPERTY               \n",
       "10 ASSAULT OFFENSES                        "
      ]
     },
     "metadata": {},
     "output_type": "display_data"
    }
   ],
   "source": [
    "#find most common offenses\n",
    "\n",
    "offense_count <- dbGetQuery(con, 'SELECT offense, COUNT(OFFENSE), \n",
    "offense_parent_group FROM sea_crime_2020 \n",
    "GROUP BY offense_parent_group, offense ORDER BY count desc LIMIT 10')\n",
    "\n",
    "head(offense_count, n = 10)\n",
    "\n",
    "fig <-plot_ly(offense_count, x=~offense, y=~count, type = 'bar') %>%\n",
    " layout(xaxis = list(title = 'Offense Type'), yaxis=list(title = 'Crime Count'))\n"
   ]
  },
  {
   "cell_type": "markdown",
   "metadata": {},
   "source": [
    "![g2](r-notebook/two.jpg)"
   ]
  },
  {
   "cell_type": "code",
   "execution_count": 12,
   "metadata": {},
   "outputs": [
    {
     "data": {
      "text/html": [
       "<table>\n",
       "<caption>A data.frame: 13 × 4</caption>\n",
       "<thead>\n",
       "\t<tr><th scope=col>year</th><th scope=col>offense</th><th scope=col>count</th><th scope=col>round</th></tr>\n",
       "\t<tr><th scope=col>&lt;dbl&gt;</th><th scope=col>&lt;chr&gt;</th><th scope=col>&lt;int64&gt;</th><th scope=col>&lt;dbl&gt;</th></tr>\n",
       "</thead>\n",
       "<tbody>\n",
       "\t<tr><td>2020</td><td>Burglary/Breaking &amp; Entering</td><td>10278</td><td>13.57</td></tr>\n",
       "\t<tr><td>2019</td><td>Theft From Motor Vehicle    </td><td>10748</td><td>15.20</td></tr>\n",
       "\t<tr><td>2018</td><td>Theft From Motor Vehicle    </td><td>11726</td><td>15.56</td></tr>\n",
       "\t<tr><td>2017</td><td>Theft From Motor Vehicle    </td><td>12528</td><td>17.13</td></tr>\n",
       "\t<tr><td>2016</td><td>Theft From Motor Vehicle    </td><td>13198</td><td>18.74</td></tr>\n",
       "\t<tr><td>2015</td><td>Theft From Motor Vehicle    </td><td>12675</td><td>18.66</td></tr>\n",
       "\t<tr><td>2014</td><td>Theft From Motor Vehicle    </td><td>13874</td><td>19.93</td></tr>\n",
       "\t<tr><td>2013</td><td>Theft From Motor Vehicle    </td><td>11721</td><td>18.42</td></tr>\n",
       "\t<tr><td>2012</td><td>Theft From Motor Vehicle    </td><td> 9130</td><td>15.50</td></tr>\n",
       "\t<tr><td>2011</td><td>Theft From Motor Vehicle    </td><td> 9822</td><td>16.56</td></tr>\n",
       "\t<tr><td>2010</td><td>Theft From Motor Vehicle    </td><td>10957</td><td>17.30</td></tr>\n",
       "\t<tr><td>2009</td><td>Theft From Motor Vehicle    </td><td>12643</td><td>19.33</td></tr>\n",
       "\t<tr><td>2008</td><td>Theft From Motor Vehicle    </td><td>10204</td><td>15.83</td></tr>\n",
       "</tbody>\n",
       "</table>\n"
      ],
      "text/latex": [
       "A data.frame: 13 × 4\n",
       "\\begin{tabular}{llll}\n",
       " year & offense & count & round\\\\\n",
       " <dbl> & <chr> & <int64> & <dbl>\\\\\n",
       "\\hline\n",
       "\t 2020 & Burglary/Breaking \\& Entering & 10278 & 13.57\\\\\n",
       "\t 2019 & Theft From Motor Vehicle     & 10748 & 15.20\\\\\n",
       "\t 2018 & Theft From Motor Vehicle     & 11726 & 15.56\\\\\n",
       "\t 2017 & Theft From Motor Vehicle     & 12528 & 17.13\\\\\n",
       "\t 2016 & Theft From Motor Vehicle     & 13198 & 18.74\\\\\n",
       "\t 2015 & Theft From Motor Vehicle     & 12675 & 18.66\\\\\n",
       "\t 2014 & Theft From Motor Vehicle     & 13874 & 19.93\\\\\n",
       "\t 2013 & Theft From Motor Vehicle     & 11721 & 18.42\\\\\n",
       "\t 2012 & Theft From Motor Vehicle     &  9130 & 15.50\\\\\n",
       "\t 2011 & Theft From Motor Vehicle     &  9822 & 16.56\\\\\n",
       "\t 2010 & Theft From Motor Vehicle     & 10957 & 17.30\\\\\n",
       "\t 2009 & Theft From Motor Vehicle     & 12643 & 19.33\\\\\n",
       "\t 2008 & Theft From Motor Vehicle     & 10204 & 15.83\\\\\n",
       "\\end{tabular}\n"
      ],
      "text/markdown": [
       "\n",
       "A data.frame: 13 × 4\n",
       "\n",
       "| year &lt;dbl&gt; | offense &lt;chr&gt; | count &lt;int64&gt; | round &lt;dbl&gt; |\n",
       "|---|---|---|---|\n",
       "| 2020 | Burglary/Breaking &amp; Entering | 10278 | 13.57 |\n",
       "| 2019 | Theft From Motor Vehicle     | 10748 | 15.20 |\n",
       "| 2018 | Theft From Motor Vehicle     | 11726 | 15.56 |\n",
       "| 2017 | Theft From Motor Vehicle     | 12528 | 17.13 |\n",
       "| 2016 | Theft From Motor Vehicle     | 13198 | 18.74 |\n",
       "| 2015 | Theft From Motor Vehicle     | 12675 | 18.66 |\n",
       "| 2014 | Theft From Motor Vehicle     | 13874 | 19.93 |\n",
       "| 2013 | Theft From Motor Vehicle     | 11721 | 18.42 |\n",
       "| 2012 | Theft From Motor Vehicle     |  9130 | 15.50 |\n",
       "| 2011 | Theft From Motor Vehicle     |  9822 | 16.56 |\n",
       "| 2010 | Theft From Motor Vehicle     | 10957 | 17.30 |\n",
       "| 2009 | Theft From Motor Vehicle     | 12643 | 19.33 |\n",
       "| 2008 | Theft From Motor Vehicle     | 10204 | 15.83 |\n",
       "\n"
      ],
      "text/plain": [
       "   year offense                      count round\n",
       "1  2020 Burglary/Breaking & Entering 10278 13.57\n",
       "2  2019 Theft From Motor Vehicle     10748 15.20\n",
       "3  2018 Theft From Motor Vehicle     11726 15.56\n",
       "4  2017 Theft From Motor Vehicle     12528 17.13\n",
       "5  2016 Theft From Motor Vehicle     13198 18.74\n",
       "6  2015 Theft From Motor Vehicle     12675 18.66\n",
       "7  2014 Theft From Motor Vehicle     13874 19.93\n",
       "8  2013 Theft From Motor Vehicle     11721 18.42\n",
       "9  2012 Theft From Motor Vehicle      9130 15.50\n",
       "10 2011 Theft From Motor Vehicle      9822 16.56\n",
       "11 2010 Theft From Motor Vehicle     10957 17.30\n",
       "12 2009 Theft From Motor Vehicle     12643 19.33\n",
       "13 2008 Theft From Motor Vehicle     10204 15.83"
      ]
     },
     "metadata": {},
     "output_type": "display_data"
    }
   ],
   "source": [
    "#get the top crimes of each year and the percentage that those crimes make up for that given year\n",
    "\n",
    "dbGetQuery(con, \"with CTE AS(\n",
    "select extract('year' FROM report_datetime) as year, offense, count(offense)\n",
    "from sea_crime_2020 GROUP BY year, offense ORDER BY YEAR DESC, COUNT DESC),\n",
    "cte2 as(\n",
    "SELECT year, OFFENSE, COUNT, (count / sum(count) OVER (partition by year) * 100) as pct FROM cte group by year, offense, count ORDER BY YEAR DESC, COUNT DESC), cte3 as(\n",
    "select year, offense, count, pct, rank() over (partition by year order by year desc, count desc) FROM cte2\n",
    "ORDER BY year desc, count desc)\n",
    "SELECT year, offense, count, ROUND(pct,2) FROM cte3 WHERE rank = 1\")"
   ]
  },
  {
   "cell_type": "code",
   "execution_count": 13,
   "metadata": {},
   "outputs": [
    {
     "data": {
      "text/html": [
       "<table>\n",
       "<caption>A data.frame: 13 × 4</caption>\n",
       "<thead>\n",
       "\t<tr><th scope=col>mcpp</th><th scope=col>year</th><th scope=col>offense</th><th scope=col>count</th></tr>\n",
       "\t<tr><th scope=col>&lt;chr&gt;</th><th scope=col>&lt;dbl&gt;</th><th scope=col>&lt;chr&gt;</th><th scope=col>&lt;int64&gt;</th></tr>\n",
       "</thead>\n",
       "<tbody>\n",
       "\t<tr><td><span style=white-space:pre-wrap>QUEEN ANNE         </span></td><td>2020</td><td>Burglary/Breaking &amp; Entering</td><td> 882</td></tr>\n",
       "\t<tr><td>DOWNTOWN COMMERCIAL</td><td>2019</td><td>Shoplifting                 </td><td> 955</td></tr>\n",
       "\t<tr><td>DOWNTOWN COMMERCIAL</td><td>2018</td><td>Shoplifting                 </td><td>1258</td></tr>\n",
       "\t<tr><td>DOWNTOWN COMMERCIAL</td><td>2017</td><td>Theft From Motor Vehicle    </td><td>1327</td></tr>\n",
       "\t<tr><td>DOWNTOWN COMMERCIAL</td><td>2016</td><td>Shoplifting                 </td><td>1166</td></tr>\n",
       "\t<tr><td>DOWNTOWN COMMERCIAL</td><td>2015</td><td>Shoplifting                 </td><td>1160</td></tr>\n",
       "\t<tr><td>DOWNTOWN COMMERCIAL</td><td>2014</td><td>Theft From Motor Vehicle    </td><td>1254</td></tr>\n",
       "\t<tr><td>DOWNTOWN COMMERCIAL</td><td>2013</td><td>Shoplifting                 </td><td>1118</td></tr>\n",
       "\t<tr><td>DOWNTOWN COMMERCIAL</td><td>2012</td><td>Shoplifting                 </td><td> 999</td></tr>\n",
       "\t<tr><td>DOWNTOWN COMMERCIAL</td><td>2011</td><td>Theft From Motor Vehicle    </td><td> 859</td></tr>\n",
       "\t<tr><td>DOWNTOWN COMMERCIAL</td><td>2010</td><td>Theft From Motor Vehicle    </td><td>1046</td></tr>\n",
       "\t<tr><td>DOWNTOWN COMMERCIAL</td><td>2009</td><td>Theft From Motor Vehicle    </td><td>1320</td></tr>\n",
       "\t<tr><td>QUEEN ANNE         </td><td>2008</td><td>Theft From Motor Vehicle    </td><td> 956</td></tr>\n",
       "</tbody>\n",
       "</table>\n"
      ],
      "text/latex": [
       "A data.frame: 13 × 4\n",
       "\\begin{tabular}{llll}\n",
       " mcpp & year & offense & count\\\\\n",
       " <chr> & <dbl> & <chr> & <int64>\\\\\n",
       "\\hline\n",
       "\t QUEEN ANNE          & 2020 & Burglary/Breaking \\& Entering &  882\\\\\n",
       "\t DOWNTOWN COMMERCIAL & 2019 & Shoplifting                  &  955\\\\\n",
       "\t DOWNTOWN COMMERCIAL & 2018 & Shoplifting                  & 1258\\\\\n",
       "\t DOWNTOWN COMMERCIAL & 2017 & Theft From Motor Vehicle     & 1327\\\\\n",
       "\t DOWNTOWN COMMERCIAL & 2016 & Shoplifting                  & 1166\\\\\n",
       "\t DOWNTOWN COMMERCIAL & 2015 & Shoplifting                  & 1160\\\\\n",
       "\t DOWNTOWN COMMERCIAL & 2014 & Theft From Motor Vehicle     & 1254\\\\\n",
       "\t DOWNTOWN COMMERCIAL & 2013 & Shoplifting                  & 1118\\\\\n",
       "\t DOWNTOWN COMMERCIAL & 2012 & Shoplifting                  &  999\\\\\n",
       "\t DOWNTOWN COMMERCIAL & 2011 & Theft From Motor Vehicle     &  859\\\\\n",
       "\t DOWNTOWN COMMERCIAL & 2010 & Theft From Motor Vehicle     & 1046\\\\\n",
       "\t DOWNTOWN COMMERCIAL & 2009 & Theft From Motor Vehicle     & 1320\\\\\n",
       "\t QUEEN ANNE          & 2008 & Theft From Motor Vehicle     &  956\\\\\n",
       "\\end{tabular}\n"
      ],
      "text/markdown": [
       "\n",
       "A data.frame: 13 × 4\n",
       "\n",
       "| mcpp &lt;chr&gt; | year &lt;dbl&gt; | offense &lt;chr&gt; | count &lt;int64&gt; |\n",
       "|---|---|---|---|\n",
       "| QUEEN ANNE          | 2020 | Burglary/Breaking &amp; Entering |  882 |\n",
       "| DOWNTOWN COMMERCIAL | 2019 | Shoplifting                  |  955 |\n",
       "| DOWNTOWN COMMERCIAL | 2018 | Shoplifting                  | 1258 |\n",
       "| DOWNTOWN COMMERCIAL | 2017 | Theft From Motor Vehicle     | 1327 |\n",
       "| DOWNTOWN COMMERCIAL | 2016 | Shoplifting                  | 1166 |\n",
       "| DOWNTOWN COMMERCIAL | 2015 | Shoplifting                  | 1160 |\n",
       "| DOWNTOWN COMMERCIAL | 2014 | Theft From Motor Vehicle     | 1254 |\n",
       "| DOWNTOWN COMMERCIAL | 2013 | Shoplifting                  | 1118 |\n",
       "| DOWNTOWN COMMERCIAL | 2012 | Shoplifting                  |  999 |\n",
       "| DOWNTOWN COMMERCIAL | 2011 | Theft From Motor Vehicle     |  859 |\n",
       "| DOWNTOWN COMMERCIAL | 2010 | Theft From Motor Vehicle     | 1046 |\n",
       "| DOWNTOWN COMMERCIAL | 2009 | Theft From Motor Vehicle     | 1320 |\n",
       "| QUEEN ANNE          | 2008 | Theft From Motor Vehicle     |  956 |\n",
       "\n"
      ],
      "text/plain": [
       "   mcpp                year offense                      count\n",
       "1  QUEEN ANNE          2020 Burglary/Breaking & Entering  882 \n",
       "2  DOWNTOWN COMMERCIAL 2019 Shoplifting                   955 \n",
       "3  DOWNTOWN COMMERCIAL 2018 Shoplifting                  1258 \n",
       "4  DOWNTOWN COMMERCIAL 2017 Theft From Motor Vehicle     1327 \n",
       "5  DOWNTOWN COMMERCIAL 2016 Shoplifting                  1166 \n",
       "6  DOWNTOWN COMMERCIAL 2015 Shoplifting                  1160 \n",
       "7  DOWNTOWN COMMERCIAL 2014 Theft From Motor Vehicle     1254 \n",
       "8  DOWNTOWN COMMERCIAL 2013 Shoplifting                  1118 \n",
       "9  DOWNTOWN COMMERCIAL 2012 Shoplifting                   999 \n",
       "10 DOWNTOWN COMMERCIAL 2011 Theft From Motor Vehicle      859 \n",
       "11 DOWNTOWN COMMERCIAL 2010 Theft From Motor Vehicle     1046 \n",
       "12 DOWNTOWN COMMERCIAL 2009 Theft From Motor Vehicle     1320 \n",
       "13 QUEEN ANNE          2008 Theft From Motor Vehicle      956 "
      ]
     },
     "metadata": {},
     "output_type": "display_data"
    }
   ],
   "source": [
    "#find the neighborhood that ranks highest each year in crime, and what specific crime is reported most often\n",
    "\n",
    "dbGetQuery(con, \"\n",
    "with cte as(\n",
    "SELECT mcpp, EXTRACT('year' FROM report_datetime) as year, offense, count(offense) FROM sea_crime_2020 group by mcpp, year, offense ORDER BY YEAR DESC, COUNT DESC), cte2 as(\n",
    "SELECT mcpp, year, offense, count, rank() over (partition by year ORDER BY year desc, count desc) FROM cte ORDER BY YEAR DESC, COUNT DESC)\n",
    " SELECT mcpp, YEAR, OFFENSE, COUNT FROM CTE2 where RANK = 1 GROUp BY year, mcpp, offense, count  order by year desc, mcpp\")\n",
    "\n",
    "#is the new number of burglaries and breaking and entering because of an increase in burglarly,\n",
    "#or from a drop in shoplifting and thef from motor vehicle?"
   ]
  },
  {
   "cell_type": "code",
   "execution_count": 77,
   "metadata": {},
   "outputs": [],
   "source": [
    "#Get B&E, shoplifting, and theft from MV data for last 4 years\n",
    "\n",
    "bne <- dbGetQuery(con, \"\n",
    "\n",
    "SELECT DATE_PART('year', report_datetime) AS year, offense, count(offense)\n",
    "FROM sea_crime_2020\n",
    "WHERE offense IN ($$Burglary/Breaking & Entering$$, $$Shoplifting$$,\n",
    "$$Theft From Motor Vehicle$$) AND DATE_PART('year', report_datetime) IN ('2020', '2019', '2018', '2017')\n",
    "GROUP BY year, offense ORDER BY year desc\n",
    "\n",
    "\")\n",
    "bne$year <- as.factor(bne$year)\n",
    "fig <- plot_ly()\n",
    "fig <- fig %>% add_trace(data = bne, x =~year, y=~count, color = ~offense, type = 'scatter', mode = 'lines') %>%\n",
    " layout(xaxis = list(title = 'Year'), yaxis=list(title = 'Crime Count'))\n"
   ]
  },
  {
   "cell_type": "markdown",
   "metadata": {},
   "source": [
    "![g3](r-notebook/three.jpg)"
   ]
  },
  {
   "cell_type": "code",
   "execution_count": 15,
   "metadata": {},
   "outputs": [],
   "source": [
    "#work with pivoting table to obtain times of day crimes are commited vs. month:\n",
    "\n",
    "crime_times <- dbGetQuery(con, \"\n",
    "\n",
    "select * from crosstab(\n",
    "$$select \n",
    " date_part('hour', report_datetime)  as hour,\n",
    "\n",
    "CASE\n",
    "\n",
    "    WHEN cast(date_part('month', report_datetime) AS text) = '1' THEN 'Jan'\n",
    "    WHEN cast(date_part('month', report_datetime) AS text) = '2' THEN 'Feb'\n",
    "    WHEN cast(date_part('month', report_datetime) AS text) = '3' THEN 'Mar'\n",
    "    WHEN cast(date_part('month', report_datetime) AS text) = '4' THEN 'Apr'\n",
    "    WHEN cast(date_part('month', report_datetime) AS text) = '5' THEN 'May'\n",
    "    WHEN cast(date_part('month', report_datetime) AS text) = '6' THEN 'June'\n",
    "    WHEN cast(date_part('month', report_datetime) AS text) = '7' THEN 'July'\n",
    "    WHEN cast(date_part('month', report_datetime) AS text) = '8' THEN 'Aug'\n",
    "    WHEN cast(date_part('month', report_datetime) AS text) = '9' THEN 'Sep'\n",
    "    WHEN cast(date_part('month', report_datetime) AS text) = '10' THEN 'Oct'\n",
    "    WHEN cast(date_part('month', report_datetime) AS text) = '11' THEN 'Nov'\n",
    "    WHEN cast(date_part('month', report_datetime) AS text) = '12' THEN 'Dec'\n",
    "\n",
    "END AS month,\n",
    "\n",
    "COUNT(offense) AS crimes\n",
    "\n",
    "FROM sea_crime_2020 GROUP BY month, hour order by hour ASC$$)\n",
    "    \n",
    "AS crime_times(\n",
    "hour float, Jan bigint, Feb bigint, Mar bigint, Apr bigint, may bigint, jun bigint, jul bigint, aug bigint,\n",
    "sep bigint,\n",
    "oct bigint, nov bigint, dec bigint)\"\n",
    ")\n"
   ]
  },
  {
   "cell_type": "code",
   "execution_count": 78,
   "metadata": {},
   "outputs": [
    {
     "data": {
      "text/html": [
       "<table>\n",
       "<caption>A matrix: 6 × 12 of type int</caption>\n",
       "<thead>\n",
       "\t<tr><th scope=col>jan</th><th scope=col>feb</th><th scope=col>mar</th><th scope=col>apr</th><th scope=col>may</th><th scope=col>jun</th><th scope=col>jul</th><th scope=col>aug</th><th scope=col>sep</th><th scope=col>oct</th><th scope=col>nov</th><th scope=col>dec</th></tr>\n",
       "</thead>\n",
       "<tbody>\n",
       "\t<tr><td>1938</td><td>2276</td><td>1978</td><td>1809</td><td>2011</td><td>2322</td><td>2179</td><td>1874</td><td>2225</td><td>1906</td><td>2009</td><td>2004</td></tr>\n",
       "\t<tr><td>1814</td><td>2172</td><td>1848</td><td>1656</td><td>2053</td><td>2102</td><td>1932</td><td>1820</td><td>2020</td><td>1820</td><td>1988</td><td>1943</td></tr>\n",
       "\t<tr><td>1528</td><td>1920</td><td>1723</td><td>1498</td><td>1723</td><td>1916</td><td>1757</td><td>1561</td><td>1705</td><td>1679</td><td>1766</td><td>1711</td></tr>\n",
       "\t<tr><td>1000</td><td>1323</td><td>1144</td><td> 999</td><td>1076</td><td>1281</td><td>1194</td><td>1092</td><td>1121</td><td>1135</td><td>1176</td><td>1128</td></tr>\n",
       "\t<tr><td> 911</td><td>1080</td><td> 989</td><td> 899</td><td>1033</td><td>1143</td><td>1051</td><td> 926</td><td>1109</td><td> 983</td><td> 998</td><td>1006</td></tr>\n",
       "\t<tr><td> 792</td><td>1001</td><td> 916</td><td> 784</td><td>1006</td><td>1010</td><td> 991</td><td> 944</td><td>1006</td><td> 903</td><td> 970</td><td> 983</td></tr>\n",
       "</tbody>\n",
       "</table>\n"
      ],
      "text/latex": [
       "A matrix: 6 × 12 of type int\n",
       "\\begin{tabular}{llllllllllll}\n",
       " jan & feb & mar & apr & may & jun & jul & aug & sep & oct & nov & dec\\\\\n",
       "\\hline\n",
       "\t 1938 & 2276 & 1978 & 1809 & 2011 & 2322 & 2179 & 1874 & 2225 & 1906 & 2009 & 2004\\\\\n",
       "\t 1814 & 2172 & 1848 & 1656 & 2053 & 2102 & 1932 & 1820 & 2020 & 1820 & 1988 & 1943\\\\\n",
       "\t 1528 & 1920 & 1723 & 1498 & 1723 & 1916 & 1757 & 1561 & 1705 & 1679 & 1766 & 1711\\\\\n",
       "\t 1000 & 1323 & 1144 &  999 & 1076 & 1281 & 1194 & 1092 & 1121 & 1135 & 1176 & 1128\\\\\n",
       "\t  911 & 1080 &  989 &  899 & 1033 & 1143 & 1051 &  926 & 1109 &  983 &  998 & 1006\\\\\n",
       "\t  792 & 1001 &  916 &  784 & 1006 & 1010 &  991 &  944 & 1006 &  903 &  970 &  983\\\\\n",
       "\\end{tabular}\n"
      ],
      "text/markdown": [
       "\n",
       "A matrix: 6 × 12 of type int\n",
       "\n",
       "| jan | feb | mar | apr | may | jun | jul | aug | sep | oct | nov | dec |\n",
       "|---|---|---|---|---|---|---|---|---|---|---|---|\n",
       "| 1938 | 2276 | 1978 | 1809 | 2011 | 2322 | 2179 | 1874 | 2225 | 1906 | 2009 | 2004 |\n",
       "| 1814 | 2172 | 1848 | 1656 | 2053 | 2102 | 1932 | 1820 | 2020 | 1820 | 1988 | 1943 |\n",
       "| 1528 | 1920 | 1723 | 1498 | 1723 | 1916 | 1757 | 1561 | 1705 | 1679 | 1766 | 1711 |\n",
       "| 1000 | 1323 | 1144 |  999 | 1076 | 1281 | 1194 | 1092 | 1121 | 1135 | 1176 | 1128 |\n",
       "|  911 | 1080 |  989 |  899 | 1033 | 1143 | 1051 |  926 | 1109 |  983 |  998 | 1006 |\n",
       "|  792 | 1001 |  916 |  784 | 1006 | 1010 |  991 |  944 | 1006 |  903 |  970 |  983 |\n",
       "\n"
      ],
      "text/plain": [
       "     jan  feb  mar  apr  may  jun  jul  aug  sep  oct  nov  dec \n",
       "[1,] 1938 2276 1978 1809 2011 2322 2179 1874 2225 1906 2009 2004\n",
       "[2,] 1814 2172 1848 1656 2053 2102 1932 1820 2020 1820 1988 1943\n",
       "[3,] 1528 1920 1723 1498 1723 1916 1757 1561 1705 1679 1766 1711\n",
       "[4,] 1000 1323 1144  999 1076 1281 1194 1092 1121 1135 1176 1128\n",
       "[5,]  911 1080  989  899 1033 1143 1051  926 1109  983  998 1006\n",
       "[6,]  792 1001  916  784 1006 1010  991  944 1006  903  970  983"
      ]
     },
     "metadata": {},
     "output_type": "display_data"
    }
   ],
   "source": [
    "#do crimes occure more often in months typically regarded as warmer months?\n",
    "crime_times_heat <- crime_times\n",
    "hours <- c('12:00a', '1:00a','2:00a','3:00a','4:00a','5:00a','6:00a','7:00a','8:00a','9:00a','10:00a','11:00a',\n",
    "          '12:00p','1:00p','2:00p','3:00p','4:00p','5:00p','6:00p','7:00p','8:00p','9:00p','10:00p', '11:00p')\n",
    "rownames(crime_times_heat) <- hours\n",
    "crime_times_heat <- crime_times_heat[,-1]\n",
    "crime_times_heat <- sapply(crime_times_heat, as.integer)\n",
    "head(crime_times_heat)\n",
    "fig <- plot_ly(x = colnames(crime_times_heat), y = hours, z = crime_times_heat, type = \"heatmap\") %>%\n",
    " layout(xaxis = list(title = 'Month'), yaxis=list(title = 'Time of Day'))\n"
   ]
  },
  {
   "cell_type": "markdown",
   "metadata": {},
   "source": [
    "![g4](r-notebook/four.jpg)"
   ]
  },
  {
   "cell_type": "code",
   "execution_count": 17,
   "metadata": {},
   "outputs": [
    {
     "data": {
      "text/html": [
       "<table>\n",
       "<caption>A data.frame: 6 × 4</caption>\n",
       "<thead>\n",
       "\t<tr><th></th><th scope=col>year</th><th scope=col>crime_grade</th><th scope=col>crime_count</th><th scope=col>pct</th></tr>\n",
       "\t<tr><th></th><th scope=col>&lt;dbl&gt;</th><th scope=col>&lt;chr&gt;</th><th scope=col>&lt;int64&gt;</th><th scope=col>&lt;dbl&gt;</th></tr>\n",
       "</thead>\n",
       "<tbody>\n",
       "\t<tr><th scope=row>1</th><td>2020</td><td>NON-VIOLENT</td><td>64792</td><td>0.86</td></tr>\n",
       "\t<tr><th scope=row>2</th><td>2020</td><td>VIOLENT    </td><td>10948</td><td>0.14</td></tr>\n",
       "\t<tr><th scope=row>3</th><td>2019</td><td>NON-VIOLENT</td><td>58692</td><td>0.83</td></tr>\n",
       "\t<tr><th scope=row>4</th><td>2019</td><td>VIOLENT    </td><td>12008</td><td>0.17</td></tr>\n",
       "\t<tr><th scope=row>5</th><td>2018</td><td>NON-VIOLENT</td><td>63349</td><td>0.84</td></tr>\n",
       "\t<tr><th scope=row>6</th><td>2018</td><td>VIOLENT    </td><td>12013</td><td>0.16</td></tr>\n",
       "</tbody>\n",
       "</table>\n"
      ],
      "text/latex": [
       "A data.frame: 6 × 4\n",
       "\\begin{tabular}{r|llll}\n",
       "  & year & crime\\_grade & crime\\_count & pct\\\\\n",
       "  & <dbl> & <chr> & <int64> & <dbl>\\\\\n",
       "\\hline\n",
       "\t1 & 2020 & NON-VIOLENT & 64792 & 0.86\\\\\n",
       "\t2 & 2020 & VIOLENT     & 10948 & 0.14\\\\\n",
       "\t3 & 2019 & NON-VIOLENT & 58692 & 0.83\\\\\n",
       "\t4 & 2019 & VIOLENT     & 12008 & 0.17\\\\\n",
       "\t5 & 2018 & NON-VIOLENT & 63349 & 0.84\\\\\n",
       "\t6 & 2018 & VIOLENT     & 12013 & 0.16\\\\\n",
       "\\end{tabular}\n"
      ],
      "text/markdown": [
       "\n",
       "A data.frame: 6 × 4\n",
       "\n",
       "| <!--/--> | year &lt;dbl&gt; | crime_grade &lt;chr&gt; | crime_count &lt;int64&gt; | pct &lt;dbl&gt; |\n",
       "|---|---|---|---|---|\n",
       "| 1 | 2020 | NON-VIOLENT | 64792 | 0.86 |\n",
       "| 2 | 2020 | VIOLENT     | 10948 | 0.14 |\n",
       "| 3 | 2019 | NON-VIOLENT | 58692 | 0.83 |\n",
       "| 4 | 2019 | VIOLENT     | 12008 | 0.17 |\n",
       "| 5 | 2018 | NON-VIOLENT | 63349 | 0.84 |\n",
       "| 6 | 2018 | VIOLENT     | 12013 | 0.16 |\n",
       "\n"
      ],
      "text/plain": [
       "  year crime_grade crime_count pct \n",
       "1 2020 NON-VIOLENT 64792       0.86\n",
       "2 2020 VIOLENT     10948       0.14\n",
       "3 2019 NON-VIOLENT 58692       0.83\n",
       "4 2019 VIOLENT     12008       0.17\n",
       "5 2018 NON-VIOLENT 63349       0.84\n",
       "6 2018 VIOLENT     12013       0.16"
      ]
     },
     "metadata": {},
     "output_type": "display_data"
    }
   ],
   "source": [
    "#break down crime counts into violent and nonviolent\n",
    "crime_types <- dbGetQuery(con ,\"\n",
    "with cte AS( -- year, offense, count\n",
    "SELECT EXTRACT('year' FROM report_datetime)as year, \n",
    "sum(count(offense)) OVER (partition by EXTRACT('year' FROM report_datetime) order by EXTRACT('year' FROM report_datetime) desc) AS tot_crimes,\n",
    "CASE\n",
    "WHEN offense_parent_group = 'ASSAULT OFFENSES' AND crime_against = 'PERSON' THEN 'VIOLENT'\n",
    "WHEN offense_parent_group = 'KIDNAPPING/ABDUCTION' AND crime_against = 'PERSON'  THEN 'VIOLENT'\n",
    "WHEN offense_parent_group = 'ROBBERY' AND crime_against = 'PERSON'  THEN 'VIOLENT'\n",
    "WHEN offense_parent_group = 'HOMICIDE' AND crime_against = 'PERSON'  THEN 'VIOLENT'\n",
    "WHEN offense_parent_group = 'SEX OFFENSES' AND crime_against = 'PERSON' THEN 'VIOLENT'\n",
    "ELSE 'NON-VIOLENT'\n",
    "END crime_grade,\n",
    "count(offense) as crime_count FROM sea_crime_2020 \n",
    "GROUP BY year, crime_grade\n",
    ")\n",
    "SELECT year, crime_grade, crime_count, round(crime_count / tot_crimes,2) as pct FROM cte ORDER BY YEAR DESC, PCT desc\")\n",
    "\n",
    "head(crime_types)"
   ]
  },
  {
   "cell_type": "code",
   "execution_count": 79,
   "metadata": {},
   "outputs": [],
   "source": [
    "#visualize ratio of violent vs. nonviolent crimes over the time series\n",
    "\n",
    "fig <- plot_ly() %>%\n",
    "    add_trace(data = crime_types, x=~year, y =~pct, color =~crime_grade, type = 'bar') %>%\n",
    "layout(barmode = 'stack')  %>% layout(xaxis = list(title = 'Year'), yaxis=list(title = 'Percent of Total Crime'))\n"
   ]
  },
  {
   "cell_type": "markdown",
   "metadata": {},
   "source": [
    "![g5](r-notebook/five.jpg)"
   ]
  },
  {
   "cell_type": "code",
   "execution_count": 19,
   "metadata": {},
   "outputs": [
    {
     "data": {
      "text/html": [
       "<table>\n",
       "<caption>A data.frame: 6 × 8</caption>\n",
       "<thead>\n",
       "\t<tr><th></th><th scope=col>year</th><th scope=col>pct_murders_of_all_crime</th><th scope=col>murder_count</th><th scope=col>population</th><th scope=col>per_100k</th><th scope=col>pct_pop_change</th><th scope=col>pct_per_100k_change</th><th scope=col>pct_murder_count_change</th></tr>\n",
       "\t<tr><th></th><th scope=col>&lt;dbl&gt;</th><th scope=col>&lt;dbl&gt;</th><th scope=col>&lt;dbl&gt;</th><th scope=col>&lt;int&gt;</th><th scope=col>&lt;dbl&gt;</th><th scope=col>&lt;dbl&gt;</th><th scope=col>&lt;dbl&gt;</th><th scope=col>&lt;dbl&gt;</th></tr>\n",
       "</thead>\n",
       "<tbody>\n",
       "\t<tr><th scope=row>1</th><td>2020</td><td>0.06</td><td>47</td><td>767312</td><td>6.13</td><td>1.81</td><td> 64.78</td><td> 67.86</td></tr>\n",
       "\t<tr><th scope=row>2</th><td>2019</td><td>0.04</td><td>28</td><td>753675</td><td>3.72</td><td>1.17</td><td>-13.49</td><td>-12.50</td></tr>\n",
       "\t<tr><th scope=row>3</th><td>2018</td><td>0.04</td><td>32</td><td>744955</td><td>4.30</td><td>2.79</td><td> 15.28</td><td> 18.52</td></tr>\n",
       "\t<tr><th scope=row>4</th><td>2017</td><td>0.04</td><td>27</td><td>724745</td><td>3.73</td><td>2.90</td><td> 38.15</td><td> 42.11</td></tr>\n",
       "\t<tr><th scope=row>5</th><td>2016</td><td>0.03</td><td>19</td><td>704352</td><td>2.70</td><td>2.91</td><td>-31.47</td><td>-29.63</td></tr>\n",
       "\t<tr><th scope=row>6</th><td>2015</td><td>0.04</td><td>27</td><td>684451</td><td>3.94</td><td>2.41</td><td> 14.53</td><td> 17.39</td></tr>\n",
       "</tbody>\n",
       "</table>\n"
      ],
      "text/latex": [
       "A data.frame: 6 × 8\n",
       "\\begin{tabular}{r|llllllll}\n",
       "  & year & pct\\_murders\\_of\\_all\\_crime & murder\\_count & population & per\\_100k & pct\\_pop\\_change & pct\\_per\\_100k\\_change & pct\\_murder\\_count\\_change\\\\\n",
       "  & <dbl> & <dbl> & <dbl> & <int> & <dbl> & <dbl> & <dbl> & <dbl>\\\\\n",
       "\\hline\n",
       "\t1 & 2020 & 0.06 & 47 & 767312 & 6.13 & 1.81 &  64.78 &  67.86\\\\\n",
       "\t2 & 2019 & 0.04 & 28 & 753675 & 3.72 & 1.17 & -13.49 & -12.50\\\\\n",
       "\t3 & 2018 & 0.04 & 32 & 744955 & 4.30 & 2.79 &  15.28 &  18.52\\\\\n",
       "\t4 & 2017 & 0.04 & 27 & 724745 & 3.73 & 2.90 &  38.15 &  42.11\\\\\n",
       "\t5 & 2016 & 0.03 & 19 & 704352 & 2.70 & 2.91 & -31.47 & -29.63\\\\\n",
       "\t6 & 2015 & 0.04 & 27 & 684451 & 3.94 & 2.41 &  14.53 &  17.39\\\\\n",
       "\\end{tabular}\n"
      ],
      "text/markdown": [
       "\n",
       "A data.frame: 6 × 8\n",
       "\n",
       "| <!--/--> | year &lt;dbl&gt; | pct_murders_of_all_crime &lt;dbl&gt; | murder_count &lt;dbl&gt; | population &lt;int&gt; | per_100k &lt;dbl&gt; | pct_pop_change &lt;dbl&gt; | pct_per_100k_change &lt;dbl&gt; | pct_murder_count_change &lt;dbl&gt; |\n",
       "|---|---|---|---|---|---|---|---|---|\n",
       "| 1 | 2020 | 0.06 | 47 | 767312 | 6.13 | 1.81 |  64.78 |  67.86 |\n",
       "| 2 | 2019 | 0.04 | 28 | 753675 | 3.72 | 1.17 | -13.49 | -12.50 |\n",
       "| 3 | 2018 | 0.04 | 32 | 744955 | 4.30 | 2.79 |  15.28 |  18.52 |\n",
       "| 4 | 2017 | 0.04 | 27 | 724745 | 3.73 | 2.90 |  38.15 |  42.11 |\n",
       "| 5 | 2016 | 0.03 | 19 | 704352 | 2.70 | 2.91 | -31.47 | -29.63 |\n",
       "| 6 | 2015 | 0.04 | 27 | 684451 | 3.94 | 2.41 |  14.53 |  17.39 |\n",
       "\n"
      ],
      "text/plain": [
       "  year pct_murders_of_all_crime murder_count population per_100k pct_pop_change\n",
       "1 2020 0.06                     47           767312     6.13     1.81          \n",
       "2 2019 0.04                     28           753675     3.72     1.17          \n",
       "3 2018 0.04                     32           744955     4.30     2.79          \n",
       "4 2017 0.04                     27           724745     3.73     2.90          \n",
       "5 2016 0.03                     19           704352     2.70     2.91          \n",
       "6 2015 0.04                     27           684451     3.94     2.41          \n",
       "  pct_per_100k_change pct_murder_count_change\n",
       "1  64.78               67.86                 \n",
       "2 -13.49              -12.50                 \n",
       "3  15.28               18.52                 \n",
       "4  38.15               42.11                 \n",
       "5 -31.47              -29.63                 \n",
       "6  14.53               17.39                 "
      ]
     },
     "metadata": {},
     "output_type": "display_data"
    }
   ],
   "source": [
    "sea_murder <- dbGetQuery(con, \n",
    "                         \n",
    "\"with cte AS(\n",
    "    SELECT\n",
    "        EXTRACT('YEAR' FROM report_datetime) AS year,\n",
    "        ROUND(AVG(CASE WHEN offense ILIKE '%murder%' THEN 1 ELSE 0 END) * 100, 2) AS pct_murders_of_all_crime\n",
    "        FROM sea_crime SEA_CRIME GROUP BY year ORDER BY year DESC),\n",
    "cte2 AS\n",
    "        (select count(offense), EXTRACT('year' from report_datetime) AS year \n",
    "        FROM sea_Crime \n",
    "        WHERE offense ILIKE '%murder%' \n",
    "        GROUP BY year \n",
    "        ORDER BY year DESC),\n",
    "cte3 AS\n",
    "        (SELECT cte.year, cte.pct_murders_of_all_crime, cte2.count FROM\n",
    "        cte NATURAL JOIN cte2),\n",
    "cte4 AS\n",
    "        (SELECT year, pct_murders_of_all_crime, (COUNT * 1.0) as murder_count, population \n",
    "        FROM cte3 \n",
    "        NATURAL JOIN seattle_pop \n",
    "        ORDER BY year DESC), \n",
    "cte5 AS\n",
    "        (SELECT *,\n",
    "        ROUND(CAST(murder_count / (CAST(population as numeric)/ 100000.0) AS numeric),2) AS per_100k FROM cte4)\n",
    "\n",
    "    SELECT *,\n",
    "    round(CAST(population - LEAD(population,1) OVER () AS numeric) / LEAD(population) OVER () * 100,2) AS PCT_POP_CHANGE,\n",
    "    ROUND(CAST(per_100k - LEAD(per_100k,1) OVER () AS numeric) / LEAD(per_100k) OVER () * 100,2) AS PCT_per_100k_CHANGE,\n",
    "    ROUND(CAST(murder_count - LEAD(murder_count,1) OVER () AS numeric) / LEAD(murder_count) OVER () * 100,2) AS PCT_murder_count_change\n",
    "    FROM cte5;\")\n",
    "\n",
    "head(sea_murder)\n"
   ]
  },
  {
   "cell_type": "code",
   "execution_count": 80,
   "metadata": {},
   "outputs": [],
   "source": [
    "fig <- plot_ly()\n",
    "\n",
    "fig <- fig %>% add_trace(data = sea_murder, x=~year, y=~pct_per_100k_change, name = 'Percent per 100k Change', type='scatter', mode = 'lines', yaxis=\"y2\")\n",
    "fig <- fig %>% add_trace(data = sea_murder, x=~year, y=~pct_pop_change, name = 'Percent Population Change', type = 'scatter', \n",
    "                         mode = 'lines')\n",
    "\n",
    "fig <- fig %>% layout(yaxis2 = list(\n",
    "  overlaying = \"y\",\n",
    "  side = \"right\",\n",
    "  title = \"Percent Population Change\"),\n",
    "                      yaxis = list(title = \"Percent per 100k change\"), xaxis = list(title = 'Year'))"
   ]
  },
  {
   "cell_type": "markdown",
   "metadata": {},
   "source": [
    "![g6](r-notebook/six.jpg)"
   ]
  },
  {
   "cell_type": "code",
   "execution_count": 20,
   "metadata": {},
   "outputs": [
    {
     "data": {
      "image/png": "[encoded data removed]",
      "text/plain": [
       "Plot with title \"\""
      ]
     },
     "metadata": {
      "image/png": {
       "height": 420,
       "width": 420
      }
     },
     "output_type": "display_data"
    },
    {
     "data": {
      "image/png": "[encoded data removed]",
      "text/plain": [
       "Plot with title \"\""
      ]
     },
     "metadata": {
      "image/png": {
       "height": 420,
       "width": 420
      }
     },
     "output_type": "display_data"
    }
   ],
   "source": [
    "#visualize correlatrion matrix to see if any correlation is observed between the metrics, \n",
    "#particularly for population and change in crime\n",
    "\n",
    "corrplot(cor(sea_murder, use =\"complete.obs\"), method = \"number\")\n",
    "corrplot(cor(sea_murder, use =\"complete.obs\"), method = \"color\")"
   ]
  },
  {
   "cell_type": "code",
   "execution_count": 56,
   "metadata": {},
   "outputs": [],
   "source": [
    "#at what time do most violent crimes occur? \n",
    "\n",
    "violent_times <- dbGetQuery(con, \"\n",
    "SELECT offense, count(offense), DATE_PART('hour', report_datetime) as time\n",
    "FROM sea_crime_2020 WHERE DATE_PART('year', report_datetime) IN ('2020',\n",
    "'2019', '2018')\n",
    "AND offense_parent_group IN \n",
    "('ASSAULT OFFENSES', 'KIDNAPPING/ABDUCTION', 'ROBBERY', 'HOMICIDE', 'SEX OFFENSES')\n",
    "group by offense, time\n",
    "\n",
    "\")\n",
    "\n",
    "violent_times <- violent_times %>% \n",
    "    mutate(real_time = case_when(\n",
    "        \n",
    "        time == 1 ~ '1:00a',\n",
    "        time == 2 ~ '2:00a',\n",
    "        time == 3 ~ '3:00a',\n",
    "        time == 4 ~ '4:00a',\n",
    "        time == 5 ~ '5:00a',\n",
    "        time == 6 ~ '6:00a',\n",
    "        time == 7 ~ '7:00a',\n",
    "        time == 8 ~ '8:00a',\n",
    "        time == 9 ~ '9:00a',\n",
    "        time == 10 ~ '10:00a',\n",
    "        time == 11 ~ '11:00a',\n",
    "        time == 12 ~ '12:00p',\n",
    "        time == 13 ~ '1:00p',\n",
    "        time == 14 ~ '2:00p',\n",
    "        time == 15 ~ '3:00p',\n",
    "        time == 16 ~ '4:00p',\n",
    "        time == 17 ~ '5:00p',\n",
    "        time == 18 ~ '6:00p',\n",
    "        time == 19 ~ '7:00p',\n",
    "        time == 20 ~ '8:00p',\n",
    "        time == 21 ~ '9:00p',\n",
    "        time == 22 ~ '10:00p',\n",
    "        time == 23 ~ '11:00p',\n",
    "        time == 0 ~ '12:00a'\n",
    "\n",
    "    )\n",
    ")\n",
    "\n",
    "Time  = factor(violent_times$real_time, levels=c('12:00a', '1:00a','2:00a','3:00a','4:00a','5:00a','6:00a','7:00a',\n",
    "                                                    '8:00a','9:00a','10:00a','11:00a',\n",
    "          '12:00p','1:00p','2:00p','3:00p','4:00p','5:00p','6:00p','7:00p','8:00p','9:00p','10:00p', '11:00p'))\n",
    "    \n",
    "fig <- plot_ly(data = violent_times, z =~count, x=~offense, y=~Time, type='heatmap')  %>%\n",
    "layout(xaxis = list(title = 'Offense'), yaxis=list(title = 'Time of Day'))\n",
    "#graph most common times specific crimes are occuring in the day"
   ]
  },
  {
   "cell_type": "code",
   "execution_count": 81,
   "metadata": {},
   "outputs": [],
   "source": [
    "\n"
   ]
  },
  {
   "cell_type": "code",
   "execution_count": 23,
   "metadata": {
    "scrolled": true
   },
   "outputs": [],
   "source": [
    "#In what neighborhoods do most violent crimes occur? \n",
    "\n",
    "\n",
    "violent_2020 <- dbSendQuery(con, \"CREATE OR REPLACE VIEW VIOLENT AS (\n",
    "with cte AS( -- year, offense, count\n",
    "SELECT EXTRACT('year' FROM report_datetime)as year, mcpp, sum(count(offense)) OVER (partition by EXTRACT('year' FROM report_datetime)\n",
    "              order by EXTRACT('year' FROM report_datetime) desc) AS tot_crimes,\n",
    "CASE\n",
    "WHEN offense_parent_group = 'ASSAULT OFFENSES' AND crime_against = 'PERSON' THEN 'VIOLENT'\n",
    "WHEN offense_parent_group = 'KIDNAPPING/ABDUCTION' AND crime_against = 'PERSON'  THEN 'VIOLENT'\n",
    "WHEN offense_parent_group = 'ROBBERY' AND crime_against = 'PERSON' THEN 'VIOLENT'\n",
    "WHEN offense_parent_group = 'HOMICIDE' AND crime_against = 'PERSON'  THEN 'VIOLENT'\n",
    "WHEN offense_parent_group = 'SEX OFFENSES' AND crime_against = 'PERSON' THEN 'VIOLENT'\n",
    "ELSE 'NON-VIOLENT'\n",
    "END crime_grade,\n",
    "\n",
    "count(offense) as crime_count FROM sea_crime_2020 WHERE DATE_PART('year', report_datetime) = '2020'\n",
    "GROUP BY year, mcpp, crime_grade\n",
    "), CTE2 as(\n",
    "SELECT year, mcpp, crime_grade, crime_count, ROUND(100 * round(crime_count / tot_crimes,4),2) as pct, rank() OVER (partition by YEAR ORDER BY round(crime_count / tot_crimes,4) desc)\n",
    "FROM cte\n",
    "WHERE crime_Grade = 'VIOLENT'\n",
    "ORDER BY YEAR DESC, crime_count desc)\n",
    "\n",
    "select YEAR, mcpp, crime_grade, crime_count, pct from cte2)\")\n"
   ]
  },
  {
   "cell_type": "markdown",
   "metadata": {},
   "source": [
    "![g7](r-notebook/seven.jpg)"
   ]
  },
  {
   "cell_type": "code",
   "execution_count": 25,
   "metadata": {},
   "outputs": [
    {
     "data": {
      "text/html": [
       "<table>\n",
       "<caption>A data.frame: 10 × 5</caption>\n",
       "<thead>\n",
       "\t<tr><th scope=col>year</th><th scope=col>mcpp</th><th scope=col>crime_grade</th><th scope=col>crime_count</th><th scope=col>pct</th></tr>\n",
       "\t<tr><th scope=col>&lt;dbl&gt;</th><th scope=col>&lt;chr&gt;</th><th scope=col>&lt;chr&gt;</th><th scope=col>&lt;int64&gt;</th><th scope=col>&lt;dbl&gt;</th></tr>\n",
       "</thead>\n",
       "<tbody>\n",
       "\t<tr><td>2020</td><td>DOWNTOWN COMMERCIAL             </td><td>VIOLENT</td><td>899</td><td>1.19</td></tr>\n",
       "\t<tr><td>2020</td><td>CAPITOL HILL                    </td><td>VIOLENT</td><td>849</td><td>1.12</td></tr>\n",
       "\t<tr><td>2020</td><td>SLU/CASCADE                     </td><td>VIOLENT</td><td>608</td><td>0.80</td></tr>\n",
       "\t<tr><td>2020</td><td>FIRST HILL                      </td><td>VIOLENT</td><td>537</td><td>0.71</td></tr>\n",
       "\t<tr><td>2020</td><td>NORTHGATE                       </td><td>VIOLENT</td><td>485</td><td>0.64</td></tr>\n",
       "\t<tr><td>2020</td><td>UNIVERSITY                      </td><td>VIOLENT</td><td>457</td><td>0.60</td></tr>\n",
       "\t<tr><td>2020</td><td>QUEEN ANNE                      </td><td>VIOLENT</td><td>436</td><td>0.58</td></tr>\n",
       "\t<tr><td>2020</td><td>BELLTOWN                        </td><td>VIOLENT</td><td>397</td><td>0.52</td></tr>\n",
       "\t<tr><td>2020</td><td>CHINATOWN/INTERNATIONAL DISTRICT</td><td>VIOLENT</td><td>346</td><td>0.46</td></tr>\n",
       "\t<tr><td>2020</td><td>CENTRAL AREA/SQUIRE PARK        </td><td>VIOLENT</td><td>332</td><td>0.44</td></tr>\n",
       "</tbody>\n",
       "</table>\n"
      ],
      "text/latex": [
       "A data.frame: 10 × 5\n",
       "\\begin{tabular}{lllll}\n",
       " year & mcpp & crime\\_grade & crime\\_count & pct\\\\\n",
       " <dbl> & <chr> & <chr> & <int64> & <dbl>\\\\\n",
       "\\hline\n",
       "\t 2020 & DOWNTOWN COMMERCIAL              & VIOLENT & 899 & 1.19\\\\\n",
       "\t 2020 & CAPITOL HILL                     & VIOLENT & 849 & 1.12\\\\\n",
       "\t 2020 & SLU/CASCADE                      & VIOLENT & 608 & 0.80\\\\\n",
       "\t 2020 & FIRST HILL                       & VIOLENT & 537 & 0.71\\\\\n",
       "\t 2020 & NORTHGATE                        & VIOLENT & 485 & 0.64\\\\\n",
       "\t 2020 & UNIVERSITY                       & VIOLENT & 457 & 0.60\\\\\n",
       "\t 2020 & QUEEN ANNE                       & VIOLENT & 436 & 0.58\\\\\n",
       "\t 2020 & BELLTOWN                         & VIOLENT & 397 & 0.52\\\\\n",
       "\t 2020 & CHINATOWN/INTERNATIONAL DISTRICT & VIOLENT & 346 & 0.46\\\\\n",
       "\t 2020 & CENTRAL AREA/SQUIRE PARK         & VIOLENT & 332 & 0.44\\\\\n",
       "\\end{tabular}\n"
      ],
      "text/markdown": [
       "\n",
       "A data.frame: 10 × 5\n",
       "\n",
       "| year &lt;dbl&gt; | mcpp &lt;chr&gt; | crime_grade &lt;chr&gt; | crime_count &lt;int64&gt; | pct &lt;dbl&gt; |\n",
       "|---|---|---|---|---|\n",
       "| 2020 | DOWNTOWN COMMERCIAL              | VIOLENT | 899 | 1.19 |\n",
       "| 2020 | CAPITOL HILL                     | VIOLENT | 849 | 1.12 |\n",
       "| 2020 | SLU/CASCADE                      | VIOLENT | 608 | 0.80 |\n",
       "| 2020 | FIRST HILL                       | VIOLENT | 537 | 0.71 |\n",
       "| 2020 | NORTHGATE                        | VIOLENT | 485 | 0.64 |\n",
       "| 2020 | UNIVERSITY                       | VIOLENT | 457 | 0.60 |\n",
       "| 2020 | QUEEN ANNE                       | VIOLENT | 436 | 0.58 |\n",
       "| 2020 | BELLTOWN                         | VIOLENT | 397 | 0.52 |\n",
       "| 2020 | CHINATOWN/INTERNATIONAL DISTRICT | VIOLENT | 346 | 0.46 |\n",
       "| 2020 | CENTRAL AREA/SQUIRE PARK         | VIOLENT | 332 | 0.44 |\n",
       "\n"
      ],
      "text/plain": [
       "   year mcpp                             crime_grade crime_count pct \n",
       "1  2020 DOWNTOWN COMMERCIAL              VIOLENT     899         1.19\n",
       "2  2020 CAPITOL HILL                     VIOLENT     849         1.12\n",
       "3  2020 SLU/CASCADE                      VIOLENT     608         0.80\n",
       "4  2020 FIRST HILL                       VIOLENT     537         0.71\n",
       "5  2020 NORTHGATE                        VIOLENT     485         0.64\n",
       "6  2020 UNIVERSITY                       VIOLENT     457         0.60\n",
       "7  2020 QUEEN ANNE                       VIOLENT     436         0.58\n",
       "8  2020 BELLTOWN                         VIOLENT     397         0.52\n",
       "9  2020 CHINATOWN/INTERNATIONAL DISTRICT VIOLENT     346         0.46\n",
       "10 2020 CENTRAL AREA/SQUIRE PARK         VIOLENT     332         0.44"
      ]
     },
     "metadata": {},
     "output_type": "display_data"
    }
   ],
   "source": [
    "#gives the top violent crime neighborhoods in 2020, and their\n",
    "#count as a percent of all overall crime. (including nonviolent)\n",
    "\n",
    "top_10_violent_2020 <- dbGetQuery(con, \"select * from violent LIMIT 10\") \n",
    "top_10_violent_2020"
   ]
  },
  {
   "cell_type": "code",
   "execution_count": 82,
   "metadata": {},
   "outputs": [],
   "source": [
    "#graph top 10 most violent neighborhoods in Seattle\n",
    "fig <- plot_ly(data = top_10_violent_2020, x=~mcpp, y =~crime_count, type = 'bar') %>%  layout(xaxis = list(title = 'Neighborhood'), yaxis=list(title = 'Crime Count'))\n"
   ]
  },
  {
   "cell_type": "markdown",
   "metadata": {},
   "source": [
    "![g8](r-notebook/eight.jpg)"
   ]
  },
  {
   "cell_type": "code",
   "execution_count": 48,
   "metadata": {},
   "outputs": [],
   "source": [
    "violent_all <- dbGetQuery(con, \"\n",
    "with cte AS( -- year, offense, count\n",
    "SELECT EXTRACT('year' FROM report_datetime)as year, mcpp, sum(count(offense)) OVER (partition by EXTRACT('year' FROM report_datetime)\n",
    "              order by EXTRACT('year' FROM report_datetime) desc) AS tot_crimes,\n",
    "CASE\n",
    "WHEN offense_parent_group = 'ASSAULT OFFENSES' AND crime_against = 'PERSON' THEN 'VIOLENT'\n",
    "WHEN offense_parent_group = 'KIDNAPPING/ABDUCTION' AND crime_against = 'PERSON'  THEN 'VIOLENT'\n",
    "WHEN offense_parent_group = 'ROBBERY' AND crime_against = 'PERSON' THEN 'VIOLENT'\n",
    "WHEN offense_parent_group = 'HOMICIDE' AND crime_against = 'PERSON'  THEN 'VIOLENT'\n",
    "WHEN offense_parent_group = 'SEX OFFENSES' AND crime_against = 'PERSON' THEN 'VIOLENT'\n",
    "ELSE 'NON-VIOLENT'\n",
    "END crime_grade,\n",
    "\n",
    "count(offense) as crime_count FROM sea_crime_2020 \n",
    "GROUP BY year, mcpp, crime_grade\n",
    "), CTE2 as(\n",
    "SELECT year, mcpp, crime_grade, crime_count, ROUND(100 * round(crime_count / tot_crimes,4),2) as pct, rank() OVER (partition by YEAR ORDER BY round(crime_count / tot_crimes,4) desc)\n",
    "FROM cte\n",
    "WHERE crime_Grade = 'VIOLENT'\n",
    "ORDER BY YEAR DESC, crime_count desc)\n",
    "\n",
    "select YEAR, mcpp, crime_grade, crime_count, pct from cte2\")"
   ]
  },
  {
   "cell_type": "code",
   "execution_count": 83,
   "metadata": {},
   "outputs": [],
   "source": [
    "#graph change in violent crimes by neighborhood over 2008-2020\n",
    "\n",
    "fig <- plot_ly(data=violent_all, x=~factor(year), y=~mcpp, z=~crime_count, type= 'heatmap', height = \"800\") %>%\n",
    "    layout(xaxis = list(title = 'Year'), yaxis=list(title = 'Neighborhood'))\n"
   ]
  },
  {
   "cell_type": "markdown",
   "metadata": {},
   "source": [
    "![g9](r-notebook/nine.jpg)"
   ]
  }
 ],
 "metadata": {
  "kernelspec": {
   "display_name": "R",
   "language": "R",
   "name": "ir"
  },
  "language_info": {
   "codemirror_mode": "r",
   "file_extension": ".r",
   "mimetype": "text/x-r-source",
   "name": "R",
   "pygments_lexer": "r",
   "version": "3.6.1"
  }
 },
 "nbformat": 4,
 "nbformat_minor": 4
}
